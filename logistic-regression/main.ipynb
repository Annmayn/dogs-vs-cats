{
 "cells": [
  {
   "cell_type": "code",
   "execution_count": 2,
   "metadata": {},
   "outputs": [],
   "source": [
    "import os\n",
    "import file_parser\n",
    "import pandas as pd\n",
    "import cv2\n",
    "import numpy as np\n",
    "import time\n",
    "import h5py\n",
    "import json\n",
    "\n",
    "import file_parser"
   ]
  },
  {
   "cell_type": "markdown",
   "metadata": {},
   "source": [
    "## Create CSV file \\[file_location, output\\] "
   ]
  },
  {
   "cell_type": "code",
   "execution_count": 3,
   "metadata": {},
   "outputs": [
    {
     "output_type": "stream",
     "name": "stdout",
     "text": "CSV file already exists. Skipping...\n"
    }
   ],
   "source": [
    "dataset_path = \"E:\\MachineLearning\\Datasets\\dogs-vs-cats\\train\"\n",
    "dataset_csv = 'data/data.csv'\n",
    "\n",
    "if not os.path.exists(dataset_csv):\n",
    "    if not os.path.exists('data'):\n",
    "        os.makedirs('data')\n",
    "    df = file_parser.get_all_files()\n",
    "    file_parser.save_as_csv(df,dataset_csv)\n",
    "    print(\"Created csv file\")\n",
    "else:\n",
    "    print(\"CSV file already exists. Skipping...\")"
   ]
  },
  {
   "cell_type": "markdown",
   "metadata": {},
   "source": [
    "## Create train and test data "
   ]
  },
  {
   "cell_type": "code",
   "execution_count": 4,
   "metadata": {},
   "outputs": [
    {
     "output_type": "stream",
     "name": "stdout",
     "text": "Train and Test files already exists. Skipping...\n"
    }
   ],
   "source": [
    "x_train_file = 'data/train.h5'\n",
    "x_test_file = 'data/test.h5'\n",
    "image_size_x = 24;\n",
    "image_size_y = 24;\n",
    "train_size = 0.8;\n",
    "if not os.path.exists(x_test_file):\n",
    "    file_parser.split_and_save(dataset_csv, image_size_x, image_size_y, train_size, x_train_file, x_test_file)\n",
    "    print(\"Dataset split and saved as train.h5 and test.h5\")\n",
    "else:\n",
    "    print(\"Train and Test files already exists. Skipping...\")"
   ]
  },
  {
   "cell_type": "markdown",
   "metadata": {},
   "source": [
    "## CUSTOM FUNCTIONS"
   ]
  },
  {
   "cell_type": "code",
   "execution_count": 5,
   "metadata": {},
   "outputs": [],
   "source": [
    "def sigmoid(z):\n",
    "    return 1/(1+np.exp(-z))"
   ]
  },
  {
   "cell_type": "markdown",
   "metadata": {},
   "source": [
    "##  Load train and test data"
   ]
  },
  {
   "cell_type": "code",
   "execution_count": 6,
   "metadata": {},
   "outputs": [],
   "source": [
    "with h5py.File('data/train.h5','r') as train:\n",
    "    X_train = train.get('X')[()]\n",
    "    y_train = train.get('y')[()]"
   ]
  },
  {
   "cell_type": "code",
   "execution_count": 7,
   "metadata": {},
   "outputs": [
    {
     "output_type": "stream",
     "name": "stdout",
     "text": "(1728, 20000) (1, 20000)\n"
    }
   ],
   "source": [
    "print(X_train.shape, y_train.shape)"
   ]
  },
  {
   "cell_type": "code",
   "execution_count": 8,
   "metadata": {},
   "outputs": [],
   "source": [
    "with h5py.File('data/test.h5','r') as test:\n",
    "    X_test = test.get('X')[()]\n",
    "    y_test = test.get('y')[()]"
   ]
  },
  {
   "cell_type": "code",
   "execution_count": 9,
   "metadata": {},
   "outputs": [
    {
     "output_type": "stream",
     "name": "stdout",
     "text": "(1728, 5000) (1, 5000)\n"
    }
   ],
   "source": [
    "print(X_test.shape, y_test.shape)"
   ]
  },
  {
   "cell_type": "code",
   "execution_count": 10,
   "metadata": {},
   "outputs": [
    {
     "output_type": "execute_result",
     "data": {
      "text/plain": "(1728, 5000)"
     },
     "metadata": {},
     "execution_count": 10
    }
   ],
   "source": [
    "X_test.shape"
   ]
  },
  {
   "cell_type": "code",
   "execution_count": 11,
   "metadata": {},
   "outputs": [
    {
     "output_type": "execute_result",
     "data": {
      "text/plain": "255"
     },
     "metadata": {},
     "execution_count": 11
    }
   ],
   "source": [
    "max(X_train[0])"
   ]
  },
  {
   "cell_type": "code",
   "execution_count": 12,
   "metadata": {},
   "outputs": [],
   "source": [
    "X_train = X_train/255\n",
    "X_test = X_test/255"
   ]
  },
  {
   "cell_type": "code",
   "execution_count": 13,
   "metadata": {},
   "outputs": [
    {
     "output_type": "execute_result",
     "data": {
      "text/plain": "array([0.71372549, 0.42745098, 0.30980392, ..., 0.50196078, 0.57254902,\n       0.12941176])"
     },
     "metadata": {},
     "execution_count": 13
    }
   ],
   "source": [
    "X_train[0]"
   ]
  },
  {
   "cell_type": "markdown",
   "metadata": {},
   "source": [
    "## Initialize weights and bias"
   ]
  },
  {
   "cell_type": "code",
   "execution_count": 14,
   "metadata": {},
   "outputs": [],
   "source": [
    "def run_logistic_regression(X, y, w, b, learning_rate=0.01, stop_criteria=None, num_iterations=5000, print_cost=False):\n",
    "    m = X.shape[0]\n",
    "    _run_time=0\n",
    "    error = stop_criteria+1 or 1\n",
    "    i=0\n",
    "    J = None\n",
    "    while i<num_iterations and abs(error)>stop_criteria:\n",
    "        i+=1\n",
    "        t1=time.time()\n",
    "        z = np.dot(w.T, X)+b\n",
    "        a = sigmoid(z)\n",
    "\n",
    "\n",
    "        dz = a-y\n",
    "        dw = np.dot(X, dz.T)/m\n",
    "        db = np.sum(dz)/m\n",
    "\n",
    "        J_prev = J or 0\n",
    "        J = -np.sum(y*np.log(a)+(1-y)*np.log(1-a))/m\n",
    "        error = abs(J-J_prev)\n",
    "        \n",
    "        w -= learning_rate*dw\n",
    "        b -= learning_rate*db\n",
    "        \n",
    "        t2=time.time()\n",
    "        _run_time+=(t2-t1)\n",
    "        if print_cost:\n",
    "            print(\"Iteration {i}: cost = {cost}, execution time: {time:.3f}s, error: {err:.5f}\".format(i=i, cost=J, time=t2-t1, err=error))\n",
    "    \n",
    "    \n",
    "    print(\"\\nAfter {n} iterations: cost = {cost}, total execution time: {time:.3f}s\".format(n=i, cost=J, time=_run_time))\n",
    "    return {\n",
    "        \"w\": w.tolist(),\n",
    "        \"b\": b,\n",
    "        \"learning_rate\": learning_rate,\n",
    "        \"cost\": J\n",
    "    }"
   ]
  },
  {
   "cell_type": "code",
   "execution_count": 15,
   "metadata": {
    "tags": [
     "outputPrepend"
    ]
   },
   "outputs": [
    {
     "output_type": "stream",
     "name": "stdout",
     "text": "Iteration 1: cost = 8.904553324368749, execution time: 0.063s, error: 8.90455\nIteration 2: cost = 8.018315786613861, execution time: 0.052s, error: 0.88624\nIteration 3: cost = 8.013919533977745, execution time: 0.042s, error: 0.00440\nIteration 4: cost = 8.010259186752245, execution time: 0.058s, error: 0.00366\nIteration 5: cost = 8.006731769184233, execution time: 0.043s, error: 0.00353\nIteration 6: cost = 8.00332448377366, execution time: 0.047s, error: 0.00341\nIteration 7: cost = 8.000030118245958, execution time: 0.051s, error: 0.00329\nIteration 8: cost = 7.996842002904957, execution time: 0.057s, error: 0.00319\nIteration 9: cost = 7.993753931834328, execution time: 0.050s, error: 0.00309\nIteration 10: cost = 7.99076012903585, execution time: 0.053s, error: 0.00299\n\nAfter 10 iterations: cost = 7.99076012903585, total execution time: 0.516s\n"
    }
   ],
   "source": [
    "m=X_train.shape[0]\n",
    "learning_rate = 0.001\n",
    "w = np.ones((m,1))*0.001\n",
    "b = 0\n",
    "n=10\n",
    "show_epoch_details=True\n",
    "stop_criteria=0.0001\n",
    "\n",
    "res = run_logistic_regression(X_train, y_train, w, b, learning_rate, stop_criteria=stop_criteria, num_iterations=n,print_cost=show_epoch_details)"
   ]
  },
  {
   "cell_type": "code",
   "execution_count": 16,
   "metadata": {},
   "outputs": [],
   "source": [
    "with open(\"data/result.json\",'w') as f:\n",
    "    f.write(json.dumps(res, default=str))"
   ]
  },
  {
   "cell_type": "markdown",
   "metadata": {},
   "source": [
    "## Train-Test Accuracy"
   ]
  },
  {
   "cell_type": "code",
   "execution_count": 17,
   "metadata": {},
   "outputs": [],
   "source": [
    "with h5py.File('data/train.h5','r') as train:\n",
    "    X_train = train.get('X')[()]\n",
    "    y_train = train.get('y')[()]"
   ]
  },
  {
   "cell_type": "code",
   "execution_count": 18,
   "metadata": {},
   "outputs": [],
   "source": [
    "with h5py.File('data/test.h5','r') as test:\n",
    "    X_test = test.get('X')[()]\n",
    "    y_test = test.get('y')[()]"
   ]
  },
  {
   "cell_type": "code",
   "execution_count": 19,
   "metadata": {},
   "outputs": [],
   "source": [
    "X_train = X_train/255\n",
    "X_test = X_test/255"
   ]
  },
  {
   "cell_type": "code",
   "execution_count": 20,
   "metadata": {},
   "outputs": [],
   "source": [
    "with open('data/result.json','r') as f:\n",
    "    res = json.load(f)"
   ]
  },
  {
   "cell_type": "code",
   "execution_count": 21,
   "metadata": {},
   "outputs": [],
   "source": [
    "w = np.array(res['w'])\n",
    "b = res['b']"
   ]
  },
  {
   "cell_type": "code",
   "execution_count": 22,
   "metadata": {},
   "outputs": [
    {
     "output_type": "execute_result",
     "data": {
      "text/plain": "(1728, 1)"
     },
     "metadata": {},
     "execution_count": 22
    }
   ],
   "source": [
    "w.shape"
   ]
  },
  {
   "cell_type": "code",
   "execution_count": 23,
   "metadata": {},
   "outputs": [],
   "source": [
    "y_train_pred = sigmoid(np.dot(w.T,X_train)+b)>0.5\n",
    "y_test_pred = sigmoid(np.dot(w.T,X_test)+b)>0.5"
   ]
  },
  {
   "cell_type": "code",
   "execution_count": 37,
   "metadata": {},
   "outputs": [
    {
     "output_type": "execute_result",
     "data": {
      "text/plain": "57.29"
     },
     "metadata": {},
     "execution_count": 37
    }
   ],
   "source": [
    "np.sum(y_train==y_train_pred)/y_train.shape[1]*100"
   ]
  },
  {
   "cell_type": "code",
   "execution_count": 38,
   "metadata": {},
   "outputs": [
    {
     "output_type": "execute_result",
     "data": {
      "text/plain": "57.76"
     },
     "metadata": {},
     "execution_count": 38
    }
   ],
   "source": [
    "np.sum(y_test==y_test_pred)/y_test.shape[1]*100"
   ]
  },
  {
   "cell_type": "markdown",
   "metadata": {},
   "source": [
    "# ROUGH "
   ]
  },
  {
   "cell_type": "code",
   "execution_count": 9,
   "metadata": {},
   "outputs": [],
   "source": [
    "img = cv2.imread(X_train_loc[0])"
   ]
  },
  {
   "cell_type": "code",
   "execution_count": 10,
   "metadata": {},
   "outputs": [
    {
     "data": {
      "text/plain": [
       "(374, 500, 3)"
      ]
     },
     "execution_count": 10,
     "metadata": {},
     "output_type": "execute_result"
    }
   ],
   "source": [
    "img.shape"
   ]
  },
  {
   "cell_type": "code",
   "execution_count": 12,
   "metadata": {},
   "outputs": [],
   "source": [
    "small = cv2.resize(img, (24,24))"
   ]
  },
  {
   "cell_type": "code",
   "execution_count": 35,
   "metadata": {},
   "outputs": [
    {
     "data": {
      "text/plain": [
       "array([ 95, 172, 211, ...,   0,   4,   3], dtype=uint8)"
      ]
     },
     "execution_count": 35,
     "metadata": {},
     "output_type": "execute_result"
    }
   ],
   "source": [
    "small.shape"
   ]
  },
  {
   "cell_type": "code",
   "execution_count": 44,
   "metadata": {},
   "outputs": [
    {
     "output_type": "execute_result",
     "data": {
      "text/plain": "array([[0.1],\n       [0.1],\n       [0.1]])"
     },
     "metadata": {},
     "execution_count": 44
    }
   ],
   "source": [
    "np.ones((3,1))*0.1"
   ]
  },
  {
   "cell_type": "code",
   "execution_count": 15,
   "metadata": {},
   "outputs": [],
   "source": [
    "cv2.imshow('image', small)\n",
    "cv2.waitKey(0)\n",
    "cv2.destroyAllWindows()"
   ]
  },
  {
   "cell_type": "code",
   "execution_count": 17,
   "metadata": {},
   "outputs": [
    {
     "data": {
      "text/plain": [
       "(1, 1728)"
      ]
     },
     "execution_count": 17,
     "metadata": {},
     "output_type": "execute_result"
    }
   ],
   "source": [
    "cv2.resize(img, (24,24)).reshape(1,-1).shape"
   ]
  },
  {
   "cell_type": "code",
   "execution_count": 11,
   "metadata": {},
   "outputs": [],
   "source": [
    "tst = pd.read_csv('data/data.csv')"
   ]
  },
  {
   "cell_type": "code",
   "execution_count": 12,
   "metadata": {},
   "outputs": [
    {
     "data": {
      "text/plain": [
       "(25000, 3)"
      ]
     },
     "execution_count": 12,
     "metadata": {},
     "output_type": "execute_result"
    }
   ],
   "source": [
    "tst.shape"
   ]
  },
  {
   "cell_type": "code",
   "execution_count": 218,
   "metadata": {},
   "outputs": [
    {
     "output_type": "execute_result",
     "data": {
      "text/plain": "array([[False,  True, False],\n       [ True,  True,  True]])"
     },
     "metadata": {},
     "execution_count": 218
    }
   ],
   "source": [
    "a = np.array([[1,2,3],[2,2,2]])\n",
    "b = np.array([[2,2,2]])\n",
    "a==b"
   ]
  },
  {
   "cell_type": "code",
   "execution_count": 1,
   "metadata": {},
   "outputs": [],
   "source": [
    "import numpy as np"
   ]
  },
  {
   "cell_type": "code",
   "execution_count": 14,
   "metadata": {},
   "outputs": [
    {
     "output_type": "execute_result",
     "data": {
      "text/plain": "array([[-0.01243022,  0.00216015],\n       [ 0.01141479, -0.01382802]])"
     },
     "metadata": {},
     "execution_count": 14
    }
   ],
   "source": [
    "np.random.randn(2,2)*0.01"
   ]
  }
 ],
 "metadata": {
  "kernelspec": {
   "display_name": "Python 3.7.6 64-bit",
   "language": "python",
   "name": "python37664bite12d0448823a406b82cf7196c7d0953f"
  },
  "language_info": {
   "codemirror_mode": {
    "name": "ipython",
    "version": 3
   },
   "file_extension": ".py",
   "mimetype": "text/x-python",
   "name": "python",
   "nbconvert_exporter": "python",
   "pygments_lexer": "ipython3",
   "version": "3.7.6-final"
  }
 },
 "nbformat": 4,
 "nbformat_minor": 2
}